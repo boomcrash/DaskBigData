{
 "cells": [
  {
   "cell_type": "code",
   "execution_count": null,
   "metadata": {},
   "outputs": [],
   "source": [
    "!env\\Scripts\\activate.bat"
   ]
  },
  {
   "cell_type": "code",
   "execution_count": null,
   "metadata": {},
   "outputs": [],
   "source": [
    "!pip list"
   ]
  },
  {
   "cell_type": "code",
   "execution_count": null,
   "metadata": {},
   "outputs": [],
   "source": [
    "#from dask.distributed import Client\n",
    "#client = Client(scheduler_file=None)\n",
    "#print(client)"
   ]
  },
  {
   "cell_type": "code",
   "execution_count": null,
   "metadata": {},
   "outputs": [],
   "source": [
    "\n",
    "import warnings\n",
    "warnings.filterwarnings('ignore')"
   ]
  },
  {
   "cell_type": "code",
   "execution_count": null,
   "metadata": {},
   "outputs": [],
   "source": [
    "from dask.distributed import Client\n",
    "client = Client(n_workers=4, threads_per_worker=2, memory_limit='6GB')"
   ]
  },
  {
   "cell_type": "code",
   "execution_count": null,
   "metadata": {},
   "outputs": [],
   "source": [
    "client"
   ]
  },
  {
   "cell_type": "code",
   "execution_count": null,
   "metadata": {},
   "outputs": [],
   "source": [
    "#client.close()"
   ]
  },
  {
   "cell_type": "code",
   "execution_count": null,
   "metadata": {},
   "outputs": [],
   "source": [
    "import dask.dataframe as dask\n",
    "import dask_ml"
   ]
  },
  {
   "cell_type": "code",
   "execution_count": null,
   "metadata": {},
   "outputs": [],
   "source": [
    "\n",
    "df = dask.read_csv('male_players.csv', dtype={'cf': 'object',\n",
    "                                    'club_contract_valid_until_year': 'float64',\n",
    "                                    'club_jersey_number': 'float64',\n",
    "                                    'club_loaned_from': 'object',\n",
    "                                    'club_team_id': 'float64',\n",
    "                                    'league_id': 'float64',\n",
    "                                    'league_level': 'float64',\n",
    "                                    'lf': 'object',\n",
    "                                    'lw': 'object',\n",
    "                                    'release_clause_eur': 'float64',\n",
    "                                    'rf': 'object',\n",
    "                                    'rw': 'object',\n",
    "                                    'value_eur': 'float64',\n",
    "                                    'wage_eur': 'float64'},\n",
    "                   assume_missing=True)"
   ]
  },
  {
   "cell_type": "code",
   "execution_count": null,
   "metadata": {},
   "outputs": [],
   "source": [
    "df.columns"
   ]
  },
  {
   "cell_type": "code",
   "execution_count": null,
   "metadata": {},
   "outputs": [],
   "source": [
    "\n",
    "numeric_cols = [col for col, dtype in df.dtypes.items() if dtype.kind in ['f', 'i']]\n",
    "df_numeric = df[numeric_cols]"
   ]
  },
  {
   "cell_type": "code",
   "execution_count": null,
   "metadata": {},
   "outputs": [],
   "source": [
    "string_columns = [col for col, dtype in df.dtypes.items() if dtype.kind in ['O']]\n",
    "df_string = df[string_columns]\n",
    "df_string[\"international_reputation\"] = df_numeric[\"international_reputation\"].astype('float64')\n",
    "df_string['age']=df_numeric['age'].astype('float64')"
   ]
  },
  {
   "cell_type": "code",
   "execution_count": null,
   "metadata": {},
   "outputs": [],
   "source": [
    "df_string.head(10)"
   ]
  },
  {
   "cell_type": "code",
   "execution_count": null,
   "metadata": {},
   "outputs": [],
   "source": [
    "#num_rows = len(df)\n",
    "#print(f\"El DataFrame tiene {num_rows} filas.\")\n",
    "print(\"El DataFrame tiene 10003590 filas.\")"
   ]
  },
  {
   "cell_type": "code",
   "execution_count": null,
   "metadata": {},
   "outputs": [],
   "source": [
    "print(df['short_name'].head(10,npartitions=2))"
   ]
  },
  {
   "cell_type": "code",
   "execution_count": null,
   "metadata": {},
   "outputs": [],
   "source": [
    "print(df.head(10,npartitions=2))"
   ]
  },
  {
   "cell_type": "code",
   "execution_count": null,
   "metadata": {},
   "outputs": [],
   "source": [
    "print(df.info()) "
   ]
  },
  {
   "cell_type": "code",
   "execution_count": null,
   "metadata": {},
   "outputs": [],
   "source": [
    "print(df_numeric.head(10,npartitions=1))"
   ]
  },
  {
   "cell_type": "code",
   "execution_count": null,
   "metadata": {},
   "outputs": [],
   "source": [
    "df_cleaned = df_numeric.map_partitions(lambda x: x.fillna(0))"
   ]
  },
  {
   "cell_type": "code",
   "execution_count": null,
   "metadata": {},
   "outputs": [],
   "source": [
    "\n",
    "print(df_cleaned.head(10,npartitions=1))"
   ]
  },
  {
   "cell_type": "code",
   "execution_count": null,
   "metadata": {},
   "outputs": [],
   "source": [
    "n_rows = 10000\n",
    "df_subset=df_cleaned.head(n_rows)\n",
    "df_subset_string=df_string.head(n_rows)"
   ]
  },
  {
   "cell_type": "code",
   "execution_count": null,
   "metadata": {},
   "outputs": [],
   "source": [
    "df[[\"long_name\",\"age\"]].head(5)"
   ]
  },
  {
   "cell_type": "code",
   "execution_count": null,
   "metadata": {},
   "outputs": [],
   "source": [
    "df_subset_string.head(5)"
   ]
  },
  {
   "cell_type": "code",
   "execution_count": null,
   "metadata": {},
   "outputs": [],
   "source": [
    "df_subset.head(5)"
   ]
  },
  {
   "cell_type": "code",
   "execution_count": null,
   "metadata": {},
   "outputs": [],
   "source": [
    "df_subset.columns"
   ]
  },
  {
   "cell_type": "code",
   "execution_count": null,
   "metadata": {},
   "outputs": [],
   "source": [
    "df_subset.head(10)"
   ]
  },
  {
   "cell_type": "code",
   "execution_count": null,
   "metadata": {},
   "outputs": [],
   "source": [
    "df_subset = df_subset.drop(columns=['club_jersey_number'])"
   ]
  },
  {
   "cell_type": "code",
   "execution_count": null,
   "metadata": {},
   "outputs": [],
   "source": [
    "df_y=df_subset['international_reputation']\n",
    "df_y.head(10)"
   ]
  },
  {
   "cell_type": "code",
   "execution_count": null,
   "metadata": {},
   "outputs": [],
   "source": [
    "#eliminar columnas especificas\n",
    "df_subset = df_subset.drop(['player_id','value_eur','fifa_update',\n",
    "                            'goalkeeping_speed','fifa_version',\n",
    "                            'release_clause_eur','wage_eur',\n",
    "                            'club_contract_valid_until_year',\n",
    "                            'league_id','club_team_id','nationality_id',\n",
    "                            'nation_team_id','international_reputation','age',\n",
    "                            'league_level', 'nation_jersey_number', 'weak_foot',\n",
    "                            'pace', 'passing', 'dribbling', 'physic',\n",
    "                            'attacking_crossing', 'attacking_finishing',\n",
    "                            'attacking_heading_accuracy', 'attacking_short_passing',\n",
    "                            'attacking_volleys', 'skill_dribbling', 'skill_curve',\n",
    "                            'skill_fk_accuracy', 'skill_long_passing', 'skill_ball_control',\n",
    "                            'movement_acceleration', 'movement_sprint_speed', 'movement_agility',\n",
    "                            'movement_reactions', 'movement_balance', 'power_shot_power',\n",
    "                            'power_jumping', 'power_stamina', 'power_strength', 'power_long_shots',\n",
    "                            'mentality_aggression', 'mentality_interceptions',\n",
    "                            'mentality_positioning', 'mentality_vision', 'mentality_penalties',\n",
    "                            'mentality_composure', 'defending_marking_awareness',\n",
    "                            'defending_standing_tackle', 'defending_sliding_tackle',\n",
    "                            'goalkeeping_diving', 'goalkeeping_handling', 'goalkeeping_kicking',\n",
    "                            'goalkeeping_positioning', 'goalkeeping_reflexes'], axis=1)"
   ]
  },
  {
   "cell_type": "code",
   "execution_count": null,
   "metadata": {},
   "outputs": [],
   "source": [
    "df_subset.head(5)"
   ]
  },
  {
   "cell_type": "code",
   "execution_count": null,
   "metadata": {},
   "outputs": [],
   "source": [
    "len(df_y.unique())"
   ]
  },
  {
   "cell_type": "code",
   "execution_count": null,
   "metadata": {},
   "outputs": [],
   "source": [
    "from dask_ml.cluster import KMeans\n",
    "\n",
    "kmeans = KMeans(n_clusters=len(df_y.unique()), random_state=0)\n"
   ]
  },
  {
   "cell_type": "code",
   "execution_count": null,
   "metadata": {},
   "outputs": [],
   "source": [
    "import dask.array as da\n",
    "X_array = da.from_array(df_subset.to_numpy())"
   ]
  },
  {
   "cell_type": "code",
   "execution_count": null,
   "metadata": {},
   "outputs": [],
   "source": [
    "kmeans.fit(X_array)"
   ]
  },
  {
   "cell_type": "code",
   "execution_count": null,
   "metadata": {},
   "outputs": [],
   "source": [
    "#for chunk in df_subset.to_dask_array(lengths=True):\n",
    "#    kmeans.partial_fit(chunk)\n",
    "#    for i, inertia in enumerate(kmeans.inertia_):\n",
    "#        print(f\"Iteration {i}: inertia={inertia}\")"
   ]
  },
  {
   "cell_type": "code",
   "execution_count": null,
   "metadata": {},
   "outputs": [],
   "source": [
    "import matplotlib.pyplot as plt\n",
    "\n",
    "labels = kmeans.labels_\n",
    "print(labels)"
   ]
  },
  {
   "cell_type": "code",
   "execution_count": null,
   "metadata": {},
   "outputs": [],
   "source": [
    "df_subset.columns"
   ]
  },
  {
   "cell_type": "markdown",
   "metadata": {},
   "source": [
    "### AGRUPACION SEGUN EL PROMEDIO DEL JUGADOR Y SU SUELDO"
   ]
  },
  {
   "cell_type": "code",
   "execution_count": null,
   "metadata": {},
   "outputs": [],
   "source": [
    "\n",
    "fig, ax = plt.subplots()\n",
    "scatter = ax.scatter(df_subset['skill_moves'], df_subset['overall'], c=labels, cmap='viridis')\n",
    "legend = ax.legend(*scatter.legend_elements(),\n",
    "                    loc=\"upper right\", title=\"Clusters\")\n",
    "ax.add_artist(legend)\n",
    "plt.show()"
   ]
  },
  {
   "cell_type": "markdown",
   "metadata": {},
   "source": [
    "### AGRUPACION SEGUN EL PROMEDIO DEL JUGADOR Y SU SUELDO"
   ]
  },
  {
   "cell_type": "code",
   "execution_count": null,
   "metadata": {},
   "outputs": [],
   "source": [
    "\n",
    "fig, ax = plt.subplots()\n",
    "scatter = ax.scatter(df_subset['defending'], df_subset['potential'], c=labels, cmap='viridis')\n",
    "legend = ax.legend(*scatter.legend_elements(),\n",
    "                    loc=\"upper right\", title=\"Clusters\")\n",
    "ax.add_artist(legend)\n",
    "plt.show()"
   ]
  },
  {
   "cell_type": "code",
   "execution_count": null,
   "metadata": {},
   "outputs": [],
   "source": [
    "\n",
    "fig, ax = plt.subplots()\n",
    "scatter = ax.scatter(df_subset['shooting'], df_subset['potential'], c=labels, cmap='viridis')\n",
    "legend = ax.legend(*scatter.legend_elements(),\n",
    "                    loc=\"upper right\", title=\"Clusters\")\n",
    "ax.add_artist(legend)\n",
    "plt.show()"
   ]
  },
  {
   "cell_type": "code",
   "execution_count": null,
   "metadata": {},
   "outputs": [],
   "source": [
    "#prediccion \n",
    "y_pred=kmeans.predict(X_array)\n",
    "y_pred_computed, = dask.compute(y_pred)\n",
    "y_pred_computed"
   ]
  },
  {
   "cell_type": "code",
   "execution_count": null,
   "metadata": {},
   "outputs": [],
   "source": [
    "labels = labels.compute()\n",
    "print(labels)"
   ]
  },
  {
   "cell_type": "code",
   "execution_count": null,
   "metadata": {},
   "outputs": [],
   "source": [
    "from dask_ml.metrics import accuracy_score"
   ]
  },
  {
   "cell_type": "code",
   "execution_count": null,
   "metadata": {},
   "outputs": [],
   "source": [
    "from dask_ml.model_selection import train_test_split"
   ]
  },
  {
   "cell_type": "code",
   "execution_count": null,
   "metadata": {},
   "outputs": [],
   "source": [
    "\n",
    "from sklearn.ensemble import RandomForestClassifier\n"
   ]
  },
  {
   "cell_type": "code",
   "execution_count": null,
   "metadata": {},
   "outputs": [],
   "source": [
    "\n",
    "# 4. Entrenar el modelo\n",
    "X_train, X_test, y_train, y_test = train_test_split(X_array, df_y)\n",
    "X_train\n"
   ]
  },
  {
   "cell_type": "code",
   "execution_count": null,
   "metadata": {},
   "outputs": [],
   "source": [
    "X_test"
   ]
  },
  {
   "cell_type": "code",
   "execution_count": null,
   "metadata": {},
   "outputs": [],
   "source": [
    "y_train"
   ]
  },
  {
   "cell_type": "code",
   "execution_count": null,
   "metadata": {},
   "outputs": [],
   "source": [
    "y_test"
   ]
  },
  {
   "cell_type": "code",
   "execution_count": null,
   "metadata": {},
   "outputs": [],
   "source": [
    "clf = RandomForestClassifier(n_estimators=100, random_state=42)\n",
    "clf.fit(X_train, y_train)"
   ]
  },
  {
   "cell_type": "code",
   "execution_count": null,
   "metadata": {},
   "outputs": [],
   "source": [
    "# 5. predicciones\n",
    "y_pred = clf.predict(X_test)\n",
    "y_pred"
   ]
  },
  {
   "cell_type": "code",
   "execution_count": null,
   "metadata": {},
   "outputs": [],
   "source": [
    "y_test_array = da.from_array(y_test.values)\n",
    "y_test_array"
   ]
  },
  {
   "cell_type": "code",
   "execution_count": null,
   "metadata": {},
   "outputs": [],
   "source": [
    "y_pred_array = da.from_array(y_pred)\n",
    "y_pred_array"
   ]
  },
  {
   "cell_type": "code",
   "execution_count": null,
   "metadata": {},
   "outputs": [],
   "source": [
    "accuracy = accuracy_score(y_test_array, y_pred_array)\n",
    "accuracy"
   ]
  },
  {
   "cell_type": "markdown",
   "metadata": {},
   "source": [
    "# QUE JUGADOR SOY?"
   ]
  },
  {
   "cell_type": "code",
   "execution_count": null,
   "metadata": {},
   "outputs": [],
   "source": [
    "diccionario={'overall':[91.0],\n",
    "             'potential':[91.0],\n",
    "             'height_cm':[185.0],\n",
    "             'weight_kg':[80.0],\n",
    "             'skill_moves':[4.0],\n",
    "             'shooting':[92.0],\n",
    "             'defending':[33.0]\n",
    "             }\n",
    "diccionario"
   ]
  },
  {
   "cell_type": "code",
   "execution_count": null,
   "metadata": {},
   "outputs": [],
   "source": [
    "import dask.dataframe as dd\n",
    "df_nuevo=dd.from_dict(diccionario,orient='columns',npartitions=1)\n",
    "df_nuevo.values"
   ]
  },
  {
   "cell_type": "code",
   "execution_count": null,
   "metadata": {},
   "outputs": [],
   "source": [
    "y_pred_nuevo=clf.predict(df_nuevo.values)\n",
    "resultado=float(y_pred_nuevo[0])\n",
    "resultado"
   ]
  },
  {
   "attachments": {},
   "cell_type": "markdown",
   "metadata": {},
   "source": [
    "#### BUSCANDO EL JUGADOR QUE SEA NIVEL SIMILAR A MIS HABILIDADES"
   ]
  },
  {
   "cell_type": "code",
   "execution_count": null,
   "metadata": {},
   "outputs": [],
   "source": [
    "df_subset_string['international_reputation']"
   ]
  },
  {
   "cell_type": "code",
   "execution_count": null,
   "metadata": {},
   "outputs": [],
   "source": [
    "import numpy as np\n",
    "fila_aleatoria = df_subset_string.query('international_reputation == 5').sample(frac=1, random_state=np.random.randint(len(df_subset_string))).head(1)\n",
    "fila_aleatoria"
   ]
  },
  {
   "cell_type": "code",
   "execution_count": null,
   "metadata": {},
   "outputs": [],
   "source": [
    "#obtener las columnas de la fila_aleatoria desde la coluumna 10 hasta la 20\n",
    "fila_aleatoria.iloc[:,10:20]"
   ]
  },
  {
   "cell_type": "code",
   "execution_count": null,
   "metadata": {},
   "outputs": [],
   "source": [
    "imagen=fila_aleatoria[\"player_face_url\"]\n",
    "nombre=fila_aleatoria[\"short_name\"]\n",
    "nombre_completo=fila_aleatoria[\"long_name\"]\n",
    "club_actual=fila_aleatoria[\"club_name\"]\n",
    "liga_actual=fila_aleatoria[\"league_name\"]\n",
    "pierna=fila_aleatoria[\"preferred_foot\"]\n",
    "nacionalidad=fila_aleatoria[\"nationality_name\"]\n",
    "nacimiento=fila_aleatoria[\"dob\"]\n",
    "edad=fila_aleatoria[\"age\"]"
   ]
  },
  {
   "cell_type": "code",
   "execution_count": null,
   "metadata": {},
   "outputs": [],
   "source": [
    "nombre=nombre.values[0]\n",
    "nombre_completo=nombre_completo.values[0]\n",
    "club_actual=club_actual.values[0]\n",
    "liga_actual=liga_actual.values[0]\n",
    "pierna=pierna.values[0]\n",
    "nacionalidad=nacionalidad.values[0]\n",
    "nacimiento=nacimiento.values[0]\n",
    "edad=edad.values[0]\n",
    "nombre,nombre_completo,club_actual,liga_actual,pierna,nacionalidad,nacimiento,edad"
   ]
  },
  {
   "cell_type": "code",
   "execution_count": null,
   "metadata": {},
   "outputs": [],
   "source": [
    "imagen=imagen.values[0]\n",
    "imagen"
   ]
  },
  {
   "cell_type": "code",
   "execution_count": null,
   "metadata": {},
   "outputs": [],
   "source": [
    "from PIL import Image\n",
    "import requests\n",
    "from io import BytesIO\n",
    "from IPython.display import display, Image as IPImage"
   ]
  },
  {
   "cell_type": "code",
   "execution_count": null,
   "metadata": {},
   "outputs": [],
   "source": [
    "response=requests.get(imagen)\n",
    "img=Image.open(BytesIO(response.content))\n",
    "display(IPImage(data=response.content))\n",
    "print(f\"TE PARECES AL JUGADOR: {nombre_completo} \\n\")\n",
    "print(f\"Es mas conocido como : {nombre} \\n\")\n",
    "print(f\"Juega en el club: {club_actual} \\n\")\n",
    "print(f\"Juega en la liga: {liga_actual} \\n\")\n",
    "print(f\"Es de nacionalidad: {nacionalidad} \\n\")\n",
    "print(f\"Su fecha de nacimiento es: {nacimiento} \\n\")\n",
    "print(f\"Su edad es: {int(edad)} años\\n\")\n",
    "if (pierna==\"Right\"):\n",
    "    print(f\"Es diestro \\n\")\n",
    "else:\n",
    "    print(f\"Es zurdo \\n\")"
   ]
  },
  {
   "cell_type": "code",
   "execution_count": null,
   "metadata": {},
   "outputs": [],
   "source": [
    "client.close()  # close the client"
   ]
  }
 ],
 "metadata": {
  "kernelspec": {
   "display_name": "env",
   "language": "python",
   "name": "python3"
  },
  "language_info": {
   "codemirror_mode": {
    "name": "ipython",
    "version": 3
   },
   "file_extension": ".py",
   "mimetype": "text/x-python",
   "name": "python",
   "nbconvert_exporter": "python",
   "pygments_lexer": "ipython3",
   "version": "3.10.3"
  },
  "vscode": {
   "interpreter": {
    "hash": "1cf7eb7d688d7a9a6205c45a732be6f84114d51f0e3718a6381cd4618ab6598a"
   }
  }
 },
 "nbformat": 4,
 "nbformat_minor": 2
}
